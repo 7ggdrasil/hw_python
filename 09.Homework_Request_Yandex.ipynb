{
 "cells": [
  {
   "cell_type": "code",
   "execution_count": 11,
   "metadata": {},
   "outputs": [
    {
     "name": "stdout",
     "output_type": "stream",
     "text": [
      "Success\n"
     ]
    }
   ],
   "source": [
    "from pprint import pprint\n",
    "\n",
    "import requests\n",
    "\n",
    "class YaUploader:\n",
    "    def __init__(self, token: str):\n",
    "        self.token = token\n",
    "\n",
    "    def upload(self, file_path: str):\n",
    "        upload_url = \"https://cloud-api.yandex.net/v1/disk/resources/upload\"\n",
    "        headers =  {\n",
    "            'Content-Type': 'application/json',\n",
    "            'Authorization': f'OAuth {self.token}'\n",
    "        }\n",
    "        params = {\"path\": file_path, \"overwrite\": \"true\"}\n",
    "        response = requests.get(upload_url, headers=headers, params=params)      \n",
    "        href_dict = response.json()\n",
    "        # print(href_dict)\n",
    "        href = href_dict.get(\"href\", \"\")\n",
    "        resp_upl = requests.put(href, data=open(file_path, 'rb'))\n",
    "        resp_upl.raise_for_status()\n",
    "        if  resp_upl.status_code == 201:\n",
    "            print(\"Success\")  \n",
    "        \n",
    "\n",
    "\n",
    "if __name__ == '__main__':\n",
    "    # Получить путь к загружаемому файлу и токен от пользователя\n",
    "    path_to_file = 'yandexdisk_put2.txt'\n",
    "    token = ''\n",
    "    uploader = YaUploader(token)\n",
    "    result = uploader.upload(path_to_file)"
   ]
  }
 ],
 "metadata": {
  "interpreter": {
   "hash": "eea6552ef1e1ed99b57950292999cfc07ee5c94a0f63e15efe16fb59f8df44b9"
  },
  "kernelspec": {
   "display_name": "Python 3.10.2 64-bit (windows store)",
   "language": "python",
   "name": "python3"
  },
  "language_info": {
   "codemirror_mode": {
    "name": "ipython",
    "version": 3
   },
   "file_extension": ".py",
   "mimetype": "text/x-python",
   "name": "python",
   "nbconvert_exporter": "python",
   "pygments_lexer": "ipython3",
   "version": "3.10.2"
  },
  "orig_nbformat": 4
 },
 "nbformat": 4,
 "nbformat_minor": 2
}
