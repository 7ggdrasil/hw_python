{
 "cells": [
  {
   "cell_type": "code",
   "execution_count": 1,
   "metadata": {},
   "outputs": [
    {
     "name": "stdout",
     "output_type": "stream",
     "text": [
      "Самый умный Thanos\n"
     ]
    }
   ],
   "source": [
    "from pprint import pprint\n",
    "\n",
    "import requests\n",
    "\n",
    "class Superhero:\n",
    "    def __init__(self, name, url):\n",
    "        self.name = name\n",
    "        self.intellect = None\n",
    "        self.url = url \n",
    "\n",
    "    def get_heroes_intel_by_name(self):        \n",
    "        response = requests.get(self.url, timeout=5)    \n",
    "        dict = response.json()    \n",
    "        attributes = dict['results']    \n",
    "        for stats in attributes:       \n",
    "                # print(stats)\n",
    "                for stat_name, stat_value in stats.items():\n",
    "                    if stat_name == 'powerstats':\n",
    "                        intelligence = int(stat_value['intelligence'])\n",
    "                        self.intellect = intelligence\n",
    "        return intelligence\n",
    "\n",
    "if __name__ == '__main__':\n",
    "    thanos = Superhero('Thanos','https://superheroapi.com/api/2619421814940190/search/Thanos')\n",
    "    thanos_int = thanos.get_heroes_intel_by_name()\n",
    "    \n",
    "    hulk = Superhero('Hulk','https://superheroapi.com/api/2619421814940190/search/Hulk')\n",
    "    hulk_int = hulk.get_heroes_intel_by_name()    \n",
    "\n",
    "    c_amurica = Superhero('Captain America','https://superheroapi.com/api/2619421814940190/search/Captain America')\n",
    "    c_amurica_int = c_amurica.get_heroes_intel_by_name()\n",
    "\n",
    "    heroes_dict = {thanos.name: thanos_int, hulk.name: hulk_int, c_amurica.name: c_amurica_int}    \n",
    "    max_int_hero = max(heroes_dict, key=heroes_dict.get)\n",
    "    print(f'Самый умный {max_int_hero}')\n",
    "    \n",
    " \n"
   ]
  }
 ],
 "metadata": {
  "interpreter": {
   "hash": "eea6552ef1e1ed99b57950292999cfc07ee5c94a0f63e15efe16fb59f8df44b9"
  },
  "kernelspec": {
   "display_name": "Python 3.10.2 64-bit (windows store)",
   "language": "python",
   "name": "python3"
  },
  "language_info": {
   "codemirror_mode": {
    "name": "ipython",
    "version": 3
   },
   "file_extension": ".py",
   "mimetype": "text/x-python",
   "name": "python",
   "nbconvert_exporter": "python",
   "pygments_lexer": "ipython3",
   "version": "3.10.2"
  },
  "orig_nbformat": 4
 },
 "nbformat": 4,
 "nbformat_minor": 2
}
