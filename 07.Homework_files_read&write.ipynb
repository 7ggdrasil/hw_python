{
 "cells": [
  {
   "cell_type": "code",
   "execution_count": 76,
   "metadata": {},
   "outputs": [],
   "source": [
    "with open('1.txt','r', encoding=\"utf-8\") as f:    \n",
    "    data = f.readlines()\n",
    "    datalen = len(data)       \n",
    "   \n",
    "with open('2.txt','r', encoding=\"utf-8\") as f2:\n",
    "    data2 = f2.readlines()\n",
    "    datalen2 = len(data2)\n",
    "    \n",
    "if datalen >= datalen2:\n",
    "    with open('1.txt','r', encoding=\"utf-8\") as f:\n",
    "        text = f.read()\n",
    "    with open('2.txt','r', encoding=\"utf-8\") as f2:\n",
    "        text2 = f2.read()\n",
    "    with open('3.txt','w', encoding=\"utf-8\") as f3:\n",
    "        f3.write(f'2.txt\\n{datalen2}\\n{text2}\\n1.txt\\n{datalen}\\n{text}')\n",
    "else:\n",
    "    with open('1.txt','r', encoding=\"utf-8\") as f:\n",
    "        text = f.read()\n",
    "    with open('2.txt','r', encoding=\"utf-8\") as f2:\n",
    "        text2 = f2.read()\n",
    "    with open('3.txt','w', encoding=\"utf-8\") as f3:\n",
    "        f3.write(f'2.txt\\n{datalen}\\n{text}\\n1.txt\\n{datalen2}\\n{text2}')"
   ]
  }
 ],
 "metadata": {
  "interpreter": {
   "hash": "eea6552ef1e1ed99b57950292999cfc07ee5c94a0f63e15efe16fb59f8df44b9"
  },
  "kernelspec": {
   "display_name": "Python 3.10.2 64-bit (windows store)",
   "language": "python",
   "name": "python3"
  },
  "language_info": {
   "codemirror_mode": {
    "name": "ipython",
    "version": 3
   },
   "file_extension": ".py",
   "mimetype": "text/x-python",
   "name": "python",
   "nbconvert_exporter": "python",
   "pygments_lexer": "ipython3",
   "version": "3.10.2"
  },
  "orig_nbformat": 4
 },
 "nbformat": 4,
 "nbformat_minor": 2
}
