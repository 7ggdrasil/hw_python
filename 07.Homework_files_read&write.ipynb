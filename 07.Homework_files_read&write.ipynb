{
 "cells": [
  {
   "cell_type": "code",
   "execution_count": 3,
   "metadata": {},
   "outputs": [
    {
     "name": "stdout",
     "output_type": "stream",
     "text": [
      "Строка номер 1 файла номер 1\n",
      "\n",
      "Строка номер 2 файла номер 1\n"
     ]
    }
   ],
   "source": [
    "def compare_and_write_files():\n",
    "    with open('1.txt','r', encoding=\"utf-8\") as f:\n",
    "        for lines1 in f:\n",
    "            count_txt1 = 0\n",
    "            count_txt1 += 1\n",
    "            print(lines1)\n",
    "    with open('2.txt','r', encoding=\"utf-8\") as f2:\n",
    "        for lines2 in f2: \n",
    "            count_txt2 = 0\n",
    "            count_txt2 += 1\n",
    "    with open('3.txt','a+', encoding=\"utf-8\") as f3:\n",
    "        if count_txt1 > count_txt2:\n",
    "            f3.write(lines2)\n",
    "            f3.write(lines1)\n",
    "        else:\n",
    "            f3.write(lines1)\n",
    "            f3.write(lines2)\n",
    "    return\n",
    "\n",
    "\n",
    "        \n",
    "compare_and_write_files()\n"
   ]
  }
 ],
 "metadata": {
  "interpreter": {
   "hash": "eea6552ef1e1ed99b57950292999cfc07ee5c94a0f63e15efe16fb59f8df44b9"
  },
  "kernelspec": {
   "display_name": "Python 3.10.2 64-bit (windows store)",
   "language": "python",
   "name": "python3"
  },
  "language_info": {
   "codemirror_mode": {
    "name": "ipython",
    "version": 3
   },
   "file_extension": ".py",
   "mimetype": "text/x-python",
   "name": "python",
   "nbconvert_exporter": "python",
   "pygments_lexer": "ipython3",
   "version": "3.10.2"
  },
  "orig_nbformat": 4
 },
 "nbformat": 4,
 "nbformat_minor": 2
}
