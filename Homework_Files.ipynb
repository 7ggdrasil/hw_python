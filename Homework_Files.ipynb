{
 "cells": [
  {
   "cell_type": "code",
   "execution_count": 20,
   "metadata": {},
   "outputs": [
    {
     "name": "stdout",
     "output_type": "stream",
     "text": [
      "{'Омлет': [{'ingredient_name': 'Яйцо', 'quantity': 2, 'measure': 'шт'}, {'ingredient_name': 'Молоко', 'quantity': 100, 'measure': 'мл'}, {'ingredient_name': 'Помидор', 'quantity': 2, 'measure': 'шт'}], 'Утка по-пекински': [{'ingredient_name': 'Утка', 'quantity': 1, 'measure': 'шт'}, {'ingredient_name': 'Вода', 'quantity': 2, 'measure': 'л'}, {'ingredient_name': 'Мед', 'quantity': 3, 'measure': 'ст.л'}, {'ingredient_name': 'Соевый соус', 'quantity': 60, 'measure': 'мл'}], 'Запеченный картофель': [{'ingredient_name': 'Картофель', 'quantity': 1, 'measure': 'кг'}, {'ingredient_name': 'Чеснок', 'quantity': 3, 'measure': 'зубч'}, {'ingredient_name': 'Сыр гауда', 'quantity': 100, 'measure': 'г'}], 'Фахитос': [{'ingredient_name': 'Говядина', 'quantity': 500, 'measure': 'г'}, {'ingredient_name': 'Перец сладкий', 'quantity': 1, 'measure': 'шт'}, {'ingredient_name': 'Лаваш', 'quantity': 2, 'measure': 'шт'}, {'ingredient_name': 'Винный уксус', 'quantity': 1, 'measure': 'ст.л'}, {'ingredient_name': 'Помидор', 'quantity': 2, 'measure': 'шт'}]}\n"
     ]
    }
   ],
   "source": [
    "def get_cook_book():    \n",
    "    with open('recipes.txt','r', encoding=\"utf-8\") as f:\n",
    "        cook_book = {}    \n",
    "        for line in f.read().split('\\n\\n'):\n",
    "            # print(line)\n",
    "            dish, count, *ingredients = line.split('\\n')\n",
    "            meta_list = []\n",
    "            for ingr in ingredients:                \n",
    "                ingr_name, quant, measure = map(lambda i: int(i) if i.isdigit() else i, ingr.split(' | '))\n",
    "                meta_list.append({'ingredient_name': ingr_name, 'quantity': quant, 'measure': measure})\n",
    "                # print(meta_list)\n",
    "            cook_book[dish] = meta_list\n",
    "    return cook_book\n",
    "       \n",
    "print(get_cook_book())"
   ]
  },
  {
   "cell_type": "code",
   "execution_count": 178,
   "metadata": {},
   "outputs": [
    {
     "name": "stdout",
     "output_type": "stream",
     "text": [
      "{'ingredient_name': 'Картофель', 'quantity': 1, 'measure': 'кг'}\n",
      "{'ingredient_name': 'Картофель', 'quantity': 1, 'measure': 'кг'}\n",
      "{'ingredient_name': 'Картофель', 'quantity': 1, 'measure': 'кг'}\n",
      "{'ingredient_name': 'Чеснок', 'quantity': 3, 'measure': 'зубч'}\n",
      "{'ingredient_name': 'Чеснок', 'quantity': 3, 'measure': 'зубч'}\n",
      "{'ingredient_name': 'Чеснок', 'quantity': 3, 'measure': 'зубч'}\n",
      "{'ingredient_name': 'Сыр гауда', 'quantity': 100, 'measure': 'г'}\n",
      "{'ingredient_name': 'Сыр гауда', 'quantity': 100, 'measure': 'г'}\n",
      "{'ingredient_name': 'Сыр гауда', 'quantity': 100, 'measure': 'г'}\n",
      "{'ingredient_name': 'Яйцо', 'quantity': 2, 'measure': 'шт'}\n",
      "{'ingredient_name': 'Яйцо', 'quantity': 2, 'measure': 'шт'}\n",
      "{'ingredient_name': 'Яйцо', 'quantity': 2, 'measure': 'шт'}\n",
      "{'ingredient_name': 'Молоко', 'quantity': 100, 'measure': 'мл'}\n",
      "{'ingredient_name': 'Молоко', 'quantity': 100, 'measure': 'мл'}\n",
      "{'ingredient_name': 'Молоко', 'quantity': 100, 'measure': 'мл'}\n",
      "{'ingredient_name': 'Помидор', 'quantity': 2, 'measure': 'шт'}\n",
      "{'ingredient_name': 'Помидор', 'quantity': 2, 'measure': 'шт'}\n",
      "{'ingredient_name': 'Помидор', 'quantity': 2, 'measure': 'шт'}\n",
      "[]\n"
     ]
    }
   ],
   "source": [
    "# get_shop_list_by_dishes(['Запеченный картофель', 'Омлет'], 2)\n",
    "\n",
    "# def get_shop_list_by_dishes(dishes, person_count):\n",
    "#     ingr_dict = {}\n",
    "#     cook_book = get_cook_book()\n",
    "#     for dish in dishes:\n",
    "#         ingr_dict[]\n",
    "#         for ingr in cook_book[dish]:\n",
    "#             all_dishes = ingr\n",
    "#             all_dishes['quantity'] *= person_count\n",
    "#             if all_dishes['ingredient_name'] not in ingr_dict:\n",
    "#                 ingr_dict[all_dishes['ingredient_name']] = all_dishes\n",
    "#             else:\n",
    "#                 ingr_dict[all_dishes['ingredient_name']]['quantity'] += all_dishes['quantity']\n",
    "#     return ingr_dict\n",
    "# {\n",
    "#   'Картофель': {'measure': 'кг', 'quantity': 2},\n",
    "#   'Молоко': {'measure': 'мл', 'quantity': 200},\n",
    "#   'Помидор': {'measure': 'шт', 'quantity': 4},\n",
    "#   'Сыр гауда': {'measure': 'г', 'quantity': 200},\n",
    "#   'Яйцо': {'measure': 'шт', 'quantity': 4},\n",
    "#   'Чеснок': {'measure': 'зубч', 'quantity': 6}\n",
    "def get_shop_list_by_dishes(dishes, person_count):\n",
    "    cook_book = get_cook_book()\n",
    "    for dish in dishes:\n",
    "        # print(dish)\n",
    "        if dish in cook_book.keys():        \n",
    "            ingr_dict = []\n",
    "            for ingredients in cook_book[dish]:\n",
    "                for k,v,m in ingredients:\n",
    "                    print(ingredients)                   \n",
    "                    # ingr_dict.append({ingredients['ingredient_name']:{'measure':ingredients['measure'],'quantity':ingredients['quantity']*person_count}})                 \n",
    "        else:\n",
    "            print('Нет такого блюда в меню')\n",
    "    return ingr_dict\n",
    "\n",
    "\n",
    "print(get_shop_list_by_dishes(['Запеченный картофель', 'Омлет'], 2))"
   ]
  }
 ],
 "metadata": {
  "interpreter": {
   "hash": "eea6552ef1e1ed99b57950292999cfc07ee5c94a0f63e15efe16fb59f8df44b9"
  },
  "kernelspec": {
   "display_name": "Python 3.10.2 64-bit (windows store)",
   "language": "python",
   "name": "python3"
  },
  "language_info": {
   "codemirror_mode": {
    "name": "ipython",
    "version": 3
   },
   "file_extension": ".py",
   "mimetype": "text/x-python",
   "name": "python",
   "nbconvert_exporter": "python",
   "pygments_lexer": "ipython3",
   "version": "3.10.2"
  },
  "orig_nbformat": 4
 },
 "nbformat": 4,
 "nbformat_minor": 2
}
