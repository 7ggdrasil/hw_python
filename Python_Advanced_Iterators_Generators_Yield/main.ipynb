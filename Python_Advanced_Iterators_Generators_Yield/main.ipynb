{
 "cells": [
  {
   "cell_type": "code",
   "execution_count": 19,
   "metadata": {},
   "outputs": [
    {
     "name": "stdout",
     "output_type": "stream",
     "text": [
      "['a', 'b', 'c', 'd', 'e', 'f', 'h', False, 1, 2, None]\n",
      "a\n",
      "b\n",
      "c\n",
      "d\n",
      "e\n",
      "f\n",
      "h\n",
      "False\n",
      "1\n",
      "2\n",
      "None\n"
     ]
    }
   ],
   "source": [
    "from data import nested_list\n",
    "\n",
    "class FlatIterator:\n",
    "    def __init__(self, data):\n",
    "        self.data = data\n",
    "        self.pos = -1\n",
    "        self.nested_pos = 0\n",
    "        self.data_len = len(self.data)\n",
    "\n",
    "    def __iter__(self):\n",
    "        self.pos += 1\n",
    "        self.nested_pos = 0\n",
    "        return self\n",
    "\n",
    "    def __next__(self):\n",
    "        while self.pos - self.data_len and self.nested_pos == len(self.data[self.pos]):\n",
    "          iter(self)\n",
    "        if self.pos == self.data_len:\n",
    "          raise StopIteration\n",
    "        self.nested_pos += 1     \n",
    "        return self.data[self.pos][self.nested_pos - 1]\n",
    "\n",
    "if __name__ == '__main__':\n",
    "  flat_list = [item for item in FlatIterator(nested_list)]\n",
    "  print(flat_list)\n",
    "\n",
    "  for item in FlatIterator(nested_list):\n",
    "    print(item) "
   ]
  },
  {
   "cell_type": "code",
   "execution_count": 20,
   "metadata": {},
   "outputs": [
    {
     "name": "stdout",
     "output_type": "stream",
     "text": [
      "a\n",
      "b\n",
      "c\n",
      "d\n",
      "e\n",
      "f\n",
      "h\n",
      "False\n",
      "1\n",
      "2\n",
      "None\n"
     ]
    }
   ],
   "source": [
    "from data import nested_list\n",
    "from collections.abc import Iterable\n",
    "\n",
    "def FlatGenerator(data):\n",
    "    for el in data:\n",
    "        if isinstance(el, Iterable) and not isinstance(el, (str, bytes)):\n",
    "            yield from FlatGenerator(el)\n",
    "        else:\n",
    "            yield el\n",
    "\n",
    "if __name__ == '__main__':\n",
    "\n",
    "  for item in FlatGenerator(nested_list):\n",
    "    print(item)  "
   ]
  }
 ],
 "metadata": {
  "interpreter": {
   "hash": "904c04ac806fefc0ce9676c36cec68e0f30a5e901fc7e369cbd6195c73476ba5"
  },
  "kernelspec": {
   "display_name": "Python 3.10.4 64-bit (windows store)",
   "language": "python",
   "name": "python3"
  },
  "language_info": {
   "codemirror_mode": {
    "name": "ipython",
    "version": 3
   },
   "file_extension": ".py",
   "mimetype": "text/x-python",
   "name": "python",
   "nbconvert_exporter": "python",
   "pygments_lexer": "ipython3",
   "version": "3.10.4"
  },
  "orig_nbformat": 4
 },
 "nbformat": 4,
 "nbformat_minor": 2
}
