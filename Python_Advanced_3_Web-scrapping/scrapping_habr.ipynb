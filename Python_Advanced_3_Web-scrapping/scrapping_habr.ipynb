{
 "cells": [
  {
   "cell_type": "code",
   "execution_count": 55,
   "metadata": {},
   "outputs": [
    {
     "name": "stdout",
     "output_type": "stream",
     "text": [
      "сегодня в 22:32 - Робот-самурай. Как научить телеграм-бота писать хокку - https://habr.com/ru/post/663932/\n",
      "сегодня в 08:39 - Удаленное управление БЗК камерой Z6 посредством SDK - https://habr.com/ru/post/663880/\n",
      "сегодня в 00:00 - Лексический анализ в 11l - https://habr.com/ru/post/663870/\n",
      "30  апреля   в 23:59 - Микрооблако. Давайте знакомить машины друг с другом - https://habr.com/ru/post/663868/\n"
     ]
    }
   ],
   "source": [
    "import requests\n",
    "from bs4 import BeautifulSoup\n",
    "from fake_useragent import UserAgent\n",
    "\n",
    "# Необходимо парсить страницу со свежими статьями (https://habr.com/ru/all/) и выбирать те статьи, в которых встречается хотя бы одно из ключевых слов (эти слова определяем в начале скрипта). Поиск вести по всей доступной preview-информации (это информация, доступная непосредственно с текущей страницы). Вывести в консоль список подходящих статей в\n",
    "# формате: <дата> - <заголовок> - <ссылка>.\n",
    "\n",
    "KEYWORDS = ['привет', 'код', 'web', 'python']\n",
    "\n",
    "url = \"https://habr.com\"\n",
    "habr_ru = \"https://habr.com/ru/all\"\n",
    "\n",
    "content = requests.get(habr_ru, headers={'User-Agent': UserAgent().chrome})\n",
    "soup = BeautifulSoup(content.text, 'html.parser')\n",
    "posts = soup.find_all('article')\n",
    "\n",
    "for post in posts:\n",
    "    preview_text = post.find(class_ = \"tm-article-body tm-article-snippet__lead\").text    \n",
    "    if any(word in preview_text for word in KEYWORDS):\n",
    "        publish_date = post.find(class_= \"tm-article-snippet__datetime-published\").text        \n",
    "        title = post.find('h2').find('span').text        \n",
    "        link = url + post.find(class_=\"tm-article-snippet__title-link\").attrs['href']\n",
    "        result = f'{publish_date} - {title} - {link}'\n",
    "        print(result)"
   ]
  }
 ],
 "metadata": {
  "interpreter": {
   "hash": "eea6552ef1e1ed99b57950292999cfc07ee5c94a0f63e15efe16fb59f8df44b9"
  },
  "kernelspec": {
   "display_name": "Python 3.10.4 64-bit (windows store)",
   "language": "python",
   "name": "python3"
  },
  "language_info": {
   "codemirror_mode": {
    "name": "ipython",
    "version": 3
   },
   "file_extension": ".py",
   "mimetype": "text/x-python",
   "name": "python",
   "nbconvert_exporter": "python",
   "pygments_lexer": "ipython3",
   "version": "3.10.4"
  },
  "orig_nbformat": 4
 },
 "nbformat": 4,
 "nbformat_minor": 2
}
